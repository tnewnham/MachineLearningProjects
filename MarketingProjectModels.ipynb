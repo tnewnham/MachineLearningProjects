{
 "cells": [
  {
   "cell_type": "code",
   "execution_count": 1,
   "metadata": {},
   "outputs": [],
   "source": [
    "import pandas as pd\n",
    "import numpy as np "
   ]
  },
  {
   "cell_type": "code",
   "execution_count": 2,
   "metadata": {},
   "outputs": [],
   "source": [
    "dataset = np.loadtxt(\"Bank-Data-Dummies-Drop.csv\", delimiter=\",\")\n",
    "# split into input (X) and output (Y) variables\\n\n",
    "X = dataset[:,0:25]\n",
    "Y = dataset[:,25]"
   ]
  },
  {
   "cell_type": "code",
   "execution_count": 3,
   "metadata": {},
   "outputs": [],
   "source": [
    "from sklearn.model_selection import train_test_split\n",
    "from sklearn.model_selection import cross_val_score\n",
    "from sklearn.metrics import confusion_matrix\n",
    "from sklearn.metrics import precision_score, recall_score\n",
    "from sklearn.metrics import plot_confusion_matrix\n",
    "import matplotlib\n",
    "import matplotlib.pyplot as plt\n"
   ]
  },
  {
   "cell_type": "code",
   "execution_count": 4,
   "metadata": {},
   "outputs": [],
   "source": [
    "train_features, test_features, train_labels, test_labels = train_test_split(X, Y, test_size = .25, random_state = 42)"
   ]
  },
  {
   "cell_type": "code",
   "execution_count": 5,
   "metadata": {},
   "outputs": [
    {
     "name": "stdout",
     "output_type": "stream",
     "text": [
      "(7531, 25)\n",
      "(2511, 25)\n",
      "(7531,)\n",
      "(2511,)\n"
     ]
    }
   ],
   "source": [
    "print(train_features.shape)\n",
    "print(test_features.shape)\n",
    "print(train_labels.shape)\n",
    "print(test_labels.shape)"
   ]
  },
  {
   "cell_type": "code",
   "execution_count": 6,
   "metadata": {},
   "outputs": [
    {
     "data": {
      "text/plain": [
       "RandomForestClassifier(bootstrap=True, ccp_alpha=0.0, class_weight=None,\n",
       "                       criterion='gini', max_depth=None, max_features='auto',\n",
       "                       max_leaf_nodes=None, max_samples=None,\n",
       "                       min_impurity_decrease=0.0, min_impurity_split=None,\n",
       "                       min_samples_leaf=1, min_samples_split=2,\n",
       "                       min_weight_fraction_leaf=0.0, n_estimators=1000,\n",
       "                       n_jobs=None, oob_score=False, random_state=42, verbose=0,\n",
       "                       warm_start=False)"
      ]
     },
     "execution_count": 6,
     "metadata": {},
     "output_type": "execute_result"
    }
   ],
   "source": [
    "from sklearn.ensemble import RandomForestClassifier  \n",
    "rf = RandomForestClassifier(n_estimators = 1000, random_state= 42)\n",
    "rf.fit(train_features, train_labels)"
   ]
  },
  {
   "cell_type": "code",
   "execution_count": 7,
   "metadata": {},
   "outputs": [
    {
     "name": "stdout",
     "output_type": "stream",
     "text": [
      "[0.80555556 0.75298805 0.78486056 0.75298805 0.80478088 0.812749\n",
      " 0.80478088 0.76095618 0.74103586 0.74501992]\n",
      "Random Forest Accuracy: 0.78 (+/- 0.05)\n"
     ]
    }
   ],
   "source": [
    "forestScores = cross_val_score(rf, test_features, test_labels, cv = 10)\n",
    "print(forestScores)\n",
    "print(\"Random Forest Accuracy: %0.2f (+/- %0.2f)\" % (forestScores.mean(), forestScores.std() * 2))"
   ]
  },
  {
   "cell_type": "code",
   "execution_count": 8,
   "metadata": {},
   "outputs": [
    {
     "name": "stdout",
     "output_type": "stream",
     "text": [
      "0.7865392273994425\n"
     ]
    }
   ],
   "source": [
    "rfScore = rf.score(test_features, test_labels)\n",
    "print(rfScore)"
   ]
  },
  {
   "cell_type": "code",
   "execution_count": 9,
   "metadata": {},
   "outputs": [
    {
     "name": "stdout",
     "output_type": "stream",
     "text": [
      "[0. 1. 0. ... 1. 0. 1.]\n"
     ]
    }
   ],
   "source": [
    "predictionsForest = rf.predict(test_features)\n",
    "print(predictionsForest)"
   ]
  },
  {
   "cell_type": "code",
   "execution_count": 10,
   "metadata": {},
   "outputs": [
    {
     "name": "stdout",
     "output_type": "stream",
     "text": [
      "confusion matrix\n",
      "[[ 956  311]\n",
      " [ 225 1019]]\n"
     ]
    }
   ],
   "source": [
    "cmForest = confusion_matrix(test_labels, predictionsForest)\n",
    "print(\"confusion matrix\")\n",
    "print(cmForest)"
   ]
  },
  {
   "cell_type": "code",
   "execution_count": 11,
   "metadata": {},
   "outputs": [
    {
     "data": {
      "image/png": "[encoded data removed]",
      "text/plain": [
       "<Figure size 432x288 with 2 Axes>"
      ]
     },
     "metadata": {
      "needs_background": "light"
     },
     "output_type": "display_data"
    }
   ],
   "source": [
    "  disp = plot_confusion_matrix(rf, test_features, test_labels,\n",
    "                                 cmap=plt.cm.Blues)"
   ]
  },
  {
   "cell_type": "code",
   "execution_count": 12,
   "metadata": {},
   "outputs": [
    {
     "name": "stdout",
     "output_type": "stream",
     "text": [
      " true negatives = 956\n",
      " false negatives = 225\n",
      " true positives = 1019\n",
      " false positives = 311\n"
     ]
    }
   ],
   "source": [
    "print(f\" true negatives = {cmForest[0,0]}\")\n",
    "print(f\" false negatives = {cmForest[1,0]}\")\n",
    "print(f\" true positives = {cmForest[1,1]}\")\n",
    "print(f\" false positives = {cmForest[0,1]}\")"
   ]
  },
  {
   "cell_type": "code",
   "execution_count": 13,
   "metadata": {},
   "outputs": [
    {
     "name": "stdout",
     "output_type": "stream",
     "text": [
      "precison of no = 0.8094834885690093\n",
      "precison of yes = 0.7661654135338346\n"
     ]
    }
   ],
   "source": [
    "forestPrecision = precision_score(test_labels, predictionsForest, average = None)\n",
    "print(f\"precison of no = {forestPrecision[0]}\")\n",
    "print(f\"precison of yes = {forestPrecision[1]}\")"
   ]
  },
  {
   "cell_type": "code",
   "execution_count": 14,
   "metadata": {},
   "outputs": [
    {
     "name": "stdout",
     "output_type": "stream",
     "text": [
      "recall of no = 0.8191318327974276\n",
      "recall of yes = 0.7545382794001578\n"
     ]
    }
   ],
   "source": [
    "forestRecall = recall_score(test_labels, predictionsForest, average = None)\n",
    "print(f\"recall of no = {forestRecall[1]}\")\n",
    "print(f\"recall of yes = {forestRecall[0]}\")"
   ]
  },
  {
   "cell_type": "code",
   "execution_count": 15,
   "metadata": {},
   "outputs": [
    {
     "data": {
      "text/plain": [
       "LogisticRegression(C=1.0, class_weight=None, dual=False, fit_intercept=True,\n",
       "                   intercept_scaling=1, l1_ratio=None, max_iter=1000,\n",
       "                   multi_class='auto', n_jobs=None, penalty='l2',\n",
       "                   random_state=42, solver='lbfgs', tol=0.0001, verbose=0,\n",
       "                   warm_start=False)"
      ]
     },
     "execution_count": 15,
     "metadata": {},
     "output_type": "execute_result"
    }
   ],
   "source": [
    "from sklearn.linear_model import LogisticRegression\n",
    "logReg = LogisticRegression(max_iter = 1000, random_state = 42)\n",
    "logReg.fit(train_features, train_labels)"
   ]
  },
  {
   "cell_type": "code",
   "execution_count": 16,
   "metadata": {},
   "outputs": [
    {
     "name": "stdout",
     "output_type": "stream",
     "text": [
      "[0.75396825 0.72111554 0.74103586 0.66533865 0.75697211 0.7689243\n",
      " 0.74900398 0.64940239 0.71713147 0.70119522]\n",
      "Log Regression Accuracy: 0.72 (+/- 0.08)\n"
     ]
    }
   ],
   "source": [
    "regScores = cross_val_score(logReg, test_features, test_labels, cv = 10)\n",
    "print(regScores)\n",
    "print(\"Log Regression Accuracy: %0.2f (+/- %0.2f)\" % (regScores.mean(), regScores.std() * 2))"
   ]
  },
  {
   "cell_type": "code",
   "execution_count": 17,
   "metadata": {},
   "outputs": [
    {
     "name": "stdout",
     "output_type": "stream",
     "text": [
      "0.7196336121067304\n"
     ]
    }
   ],
   "source": [
    "regScore = logReg.score(test_features, test_labels)\n",
    "print(regScore)"
   ]
  },
  {
   "cell_type": "code",
   "execution_count": 18,
   "metadata": {},
   "outputs": [
    {
     "name": "stdout",
     "output_type": "stream",
     "text": [
      "[1. 1. 1. ... 0. 0. 1.]\n"
     ]
    }
   ],
   "source": [
    "predictionsReg = logReg.predict(test_features)\n",
    "print(predictionsReg)"
   ]
  },
  {
   "cell_type": "code",
   "execution_count": 19,
   "metadata": {},
   "outputs": [
    {
     "name": "stdout",
     "output_type": "stream",
     "text": [
      "confusion matrix\n",
      "[[918 349]\n",
      " [355 889]]\n"
     ]
    }
   ],
   "source": [
    "cmReg = confusion_matrix(test_labels, predictionsReg)\n",
    "print(\"confusion matrix\")\n",
    "print(cmReg)"
   ]
  },
  {
   "cell_type": "code",
   "execution_count": 20,
   "metadata": {},
   "outputs": [
    {
     "data": {
      "image/png": "[encoded data removed]",
      "text/plain": [
       "<Figure size 432x288 with 2 Axes>"
      ]
     },
     "metadata": {
      "needs_background": "light"
     },
     "output_type": "display_data"
    }
   ],
   "source": [
    "  disp = plot_confusion_matrix(logReg, test_features, test_labels,\n",
    "                                 cmap=plt.cm.Blues)"
   ]
  },
  {
   "cell_type": "code",
   "execution_count": 21,
   "metadata": {},
   "outputs": [
    {
     "name": "stdout",
     "output_type": "stream",
     "text": [
      " true negatives = 918\n",
      " false negatives = 355\n",
      " true positives = 889\n",
      " false positives = 349\n"
     ]
    }
   ],
   "source": [
    "print(f\" true negatives = {cmReg[0,0]}\")\n",
    "print(f\" false negatives = {cmReg[1,0]}\")\n",
    "print(f\" true positives = {cmReg[1,1]}\")\n",
    "print(f\" false positives = {cmReg[0,1]}\")"
   ]
  },
  {
   "cell_type": "code",
   "execution_count": 22,
   "metadata": {},
   "outputs": [
    {
     "name": "stdout",
     "output_type": "stream",
     "text": [
      "precison of no = 0.7211311861743912\n",
      "precison of yes = 0.7180936995153473\n"
     ]
    }
   ],
   "source": [
    "regPrecision = precision_score(test_labels, predictionsReg, average = None)\n",
    "print(f\"precison of no = {regPrecision[0]}\")\n",
    "print(f\"precison of yes = {regPrecision[1]}\")"
   ]
  },
  {
   "cell_type": "code",
   "execution_count": 23,
   "metadata": {},
   "outputs": [
    {
     "name": "stdout",
     "output_type": "stream",
     "text": [
      "recall of no = 0.7146302250803859\n",
      "recall of yes = 0.7245461720599842\n"
     ]
    }
   ],
   "source": [
    "regRecall = recall_score(test_labels, predictionsReg, average = None)\n",
    "print(f\"recall of no = {regRecall[1]}\")\n",
    "print(f\"recall of yes = {regRecall[0]}\")"
   ]
  },
  {
   "cell_type": "code",
   "execution_count": 24,
   "metadata": {},
   "outputs": [
    {
     "data": {
      "text/plain": [
       "GaussianNB(priors=None, var_smoothing=1e-09)"
      ]
     },
     "execution_count": 24,
     "metadata": {},
     "output_type": "execute_result"
    }
   ],
   "source": [
    "from sklearn.naive_bayes import GaussianNB\n",
    "nb = GaussianNB()\n",
    "nb.fit(train_features, train_labels)"
   ]
  },
  {
   "cell_type": "code",
   "execution_count": 25,
   "metadata": {},
   "outputs": [
    {
     "name": "stdout",
     "output_type": "stream",
     "text": [
      "[0.65873016 0.6812749  0.67330677 0.63346614 0.67330677 0.67330677\n",
      " 0.70517928 0.64940239 0.66135458 0.64940239]\n",
      "Niave Bayes Classifier: 0.67 (+/- 0.04)\n"
     ]
    }
   ],
   "source": [
    "nbScores = cross_val_score(nb, test_features, test_labels, cv = 10)\n",
    "print(nbScores)\n",
    "print(\"Niave Bayes Classifier: %0.2f (+/- %0.2f)\" % (nbScores.mean(), nbScores.std() * 2))"
   ]
  },
  {
   "cell_type": "code",
   "execution_count": 26,
   "metadata": {},
   "outputs": [
    {
     "name": "stdout",
     "output_type": "stream",
     "text": [
      "0.6798088410991637\n"
     ]
    }
   ],
   "source": [
    "nbScore = nb.score(test_features, test_labels)\n",
    "print(nbScore)"
   ]
  },
  {
   "cell_type": "code",
   "execution_count": 27,
   "metadata": {},
   "outputs": [
    {
     "name": "stdout",
     "output_type": "stream",
     "text": [
      "[1. 1. 1. ... 0. 0. 1.]\n"
     ]
    }
   ],
   "source": [
    "predictionsNb = nb.predict(test_features)\n",
    "print(predictionsReg)"
   ]
  },
  {
   "cell_type": "code",
   "execution_count": 28,
   "metadata": {},
   "outputs": [
    {
     "name": "stdout",
     "output_type": "stream",
     "text": [
      "confusion matrix\n",
      "[[958 309]\n",
      " [495 749]]\n"
     ]
    }
   ],
   "source": [
    "cmNb = confusion_matrix(test_labels, predictionsNb)\n",
    "print(\"confusion matrix\")\n",
    "print(cmNb)"
   ]
  },
  {
   "cell_type": "code",
   "execution_count": 29,
   "metadata": {},
   "outputs": [
    {
     "data": {
      "image/png": "[encoded data removed]",
      "text/plain": [
       "<Figure size 432x288 with 2 Axes>"
      ]
     },
     "metadata": {
      "needs_background": "light"
     },
     "output_type": "display_data"
    }
   ],
   "source": [
    "  disp = plot_confusion_matrix(nb, test_features, test_labels,\n",
    "                                 cmap=plt.cm.Blues)"
   ]
  },
  {
   "cell_type": "code",
   "execution_count": 30,
   "metadata": {},
   "outputs": [
    {
     "name": "stdout",
     "output_type": "stream",
     "text": [
      " true negatives = 958\n",
      " false negatives = 495\n",
      " true positives = 749\n",
      " false positives = 309\n"
     ]
    }
   ],
   "source": [
    "print(f\" true negatives = {cmNb[0,0]}\")\n",
    "print(f\" false negatives = {cmNb[1,0]}\")\n",
    "print(f\" true positives = {cmNb[1,1]}\")\n",
    "print(f\" false positives = {cmNb[0,1]}\")"
   ]
  },
  {
   "cell_type": "code",
   "execution_count": 31,
   "metadata": {},
   "outputs": [
    {
     "name": "stdout",
     "output_type": "stream",
     "text": [
      "precison of no = 0.6593255333792154\n",
      "precison of yes = 0.7079395085066162\n"
     ]
    }
   ],
   "source": [
    "nbPrecision = precision_score(test_labels, predictionsNb, average = None)\n",
    "print(f\"precison of no = {nbPrecision[0]}\")\n",
    "print(f\"precison of yes = {nbPrecision[1]}\")"
   ]
  },
  {
   "cell_type": "code",
   "execution_count": 32,
   "metadata": {},
   "outputs": [
    {
     "name": "stdout",
     "output_type": "stream",
     "text": [
      "recall of no = 0.6020900321543409\n",
      "recall of yes = 0.7561168113654302\n"
     ]
    }
   ],
   "source": [
    "nbRecall = recall_score(test_labels, predictionsNb, average = None)\n",
    "print(f\"recall of no = {nbRecall[1]}\")\n",
    "print(f\"recall of yes = {nbRecall[0]}\")"
   ]
  },
  {
   "cell_type": "code",
   "execution_count": 33,
   "metadata": {},
   "outputs": [
    {
     "data": {
      "text/plain": [
       "<BarContainer object of 3 artists>"
      ]
     },
     "execution_count": 33,
     "metadata": {},
     "output_type": "execute_result"
    },
    {
     "data": {
      "image/png": "[encoded data removed]",
      "text/plain": [
       "<Figure size 432x288 with 1 Axes>"
      ]
     },
     "metadata": {
      "needs_background": "light"
     },
     "output_type": "display_data"
    }
   ],
   "source": [
    "allScores = [regScore, rfScore, nbScore]\n",
    "names = ['Logistic Regression', 'Random Forest Classifier', 'Naive Bayes']\n",
    "plt.bar(names, allScores)"
   ]
  }
 ],
 "metadata": {
  "kernelspec": {
   "display_name": "Python 3.7.6 64-bit",
   "language": "python",
   "name": "python37664bitf9bb13c858a2482f8df4bb1e8a8752ee"
  },
  "language_info": {
   "codemirror_mode": {
    "name": "ipython",
    "version": 3
   },
   "file_extension": ".py",
   "mimetype": "text/x-python",
   "name": "python",
   "nbconvert_exporter": "python",
   "pygments_lexer": "ipython3",
   "version": "3.7.6"
  }
 },
 "nbformat": 4,
 "nbformat_minor": 2
}